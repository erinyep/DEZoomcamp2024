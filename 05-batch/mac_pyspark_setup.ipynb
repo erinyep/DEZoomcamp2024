{
 "cells": [
  {
   "cell_type": "code",
   "execution_count": 3,
   "id": "d11847be-712c-4551-9610-cc62a74186ea",
   "metadata": {},
   "outputs": [
    {
     "name": "stdout",
     "output_type": "stream",
     "text": [
      "\n",
      "CommandNotFoundError: Your shell has not been properly configured to use 'conda activate'.\n",
      "To initialize your shell, run\n",
      "\n",
      "    $ conda init <SHELL_NAME>\n",
      "\n",
      "Currently supported shells are:\n",
      "  - bash\n",
      "  - fish\n",
      "  - tcsh\n",
      "  - xonsh\n",
      "  - zsh\n",
      "  - powershell\n",
      "\n",
      "See 'conda init --help' for more information and options.\n",
      "\n",
      "IMPORTANT: You may need to close and restart your shell after running 'conda init'.\n",
      "\n",
      "\n",
      "\n",
      "Note: you may need to restart the kernel to use updated packages.\n"
     ]
    }
   ],
   "source": [
    "conda activate myenv"
   ]
  },
  {
   "cell_type": "code",
   "execution_count": 4,
   "id": "2fd5f799-23de-4180-909a-cff7f6cd6911",
   "metadata": {},
   "outputs": [
    {
     "name": "stdout",
     "output_type": "stream",
     "text": [
      "Welcome to\r\n",
      "      ____              __\r\n",
      "     / __/__  ___ _____/ /__\r\n",
      "    _\\ \\/ _ \\/ _ `/ __/  '_/\r\n",
      "   /___/ .__/\\_,_/_/ /_/\\_\\   version 3.5.1\r\n",
      "      /_/\r\n",
      "                        \r\n",
      "Using Scala version 2.12.18, Java HotSpot(TM) 64-Bit Server VM, 17.0.5\r\n",
      "Branch HEAD\r\n",
      "Compiled by user heartsavior on 2024-02-15T11:24:58Z\r\n",
      "Revision fd86f85e181fc2dc0f50a096855acf83a6cc5d9c\r\n",
      "Url https://github.com/apache/spark\r\n",
      "Type --help for more information.\r\n"
     ]
    },
    {
     "name": "stderr",
     "output_type": "stream",
     "text": [
      "Setting default log level to \"WARN\".\n",
      "To adjust logging level use sc.setLogLevel(newLevel). For SparkR, use setLogLevel(newLevel).\n",
      "24/03/15 16:27:50 WARN NativeCodeLoader: Unable to load native-hadoop library for your platform... using builtin-java classes where applicable\n"
     ]
    },
    {
     "name": "stdout",
     "output_type": "stream",
     "text": [
      "The PySpark 3.5.1 version is running...\n"
     ]
    }
   ],
   "source": [
    "import pyspark\n",
    "from pyspark.sql import SparkSession\n",
    "\n",
    "!spark-shell --version\n",
    "\n",
    "# Create SparkSession\n",
    "spark = SparkSession.builder.master(\"local[1]\") \\\n",
    "                    .appName('test-spark') \\\n",
    "                    .getOrCreate()\n",
    "\n",
    "print(f'The PySpark {spark.version} version is running...')"
   ]
  },
  {
   "cell_type": "code",
   "execution_count": 6,
   "id": "dc3bafc3-56e6-412f-83d7-5fd1676ad78c",
   "metadata": {},
   "outputs": [],
   "source": [
    "df = spark.read \\\n",
    "    .option(\"header\", \"true\") \\\n",
    "    .csv('taxi+_zone_lookup.csv')"
   ]
  },
  {
   "cell_type": "code",
   "execution_count": 7,
   "id": "fc61db09",
   "metadata": {},
   "outputs": [
    {
     "name": "stdout",
     "output_type": "stream",
     "text": [
      "+----------+-------------+--------------------+------------+\n",
      "|LocationID|      Borough|                Zone|service_zone|\n",
      "+----------+-------------+--------------------+------------+\n",
      "|         1|          EWR|      Newark Airport|         EWR|\n",
      "|         2|       Queens|         Jamaica Bay|   Boro Zone|\n",
      "|         3|        Bronx|Allerton/Pelham G...|   Boro Zone|\n",
      "|         4|    Manhattan|       Alphabet City| Yellow Zone|\n",
      "|         5|Staten Island|       Arden Heights|   Boro Zone|\n",
      "|         6|Staten Island|Arrochar/Fort Wad...|   Boro Zone|\n",
      "|         7|       Queens|             Astoria|   Boro Zone|\n",
      "|         8|       Queens|        Astoria Park|   Boro Zone|\n",
      "|         9|       Queens|          Auburndale|   Boro Zone|\n",
      "|        10|       Queens|        Baisley Park|   Boro Zone|\n",
      "|        11|     Brooklyn|          Bath Beach|   Boro Zone|\n",
      "|        12|    Manhattan|        Battery Park| Yellow Zone|\n",
      "|        13|    Manhattan|   Battery Park City| Yellow Zone|\n",
      "|        14|     Brooklyn|           Bay Ridge|   Boro Zone|\n",
      "|        15|       Queens|Bay Terrace/Fort ...|   Boro Zone|\n",
      "|        16|       Queens|             Bayside|   Boro Zone|\n",
      "|        17|     Brooklyn|             Bedford|   Boro Zone|\n",
      "|        18|        Bronx|        Bedford Park|   Boro Zone|\n",
      "|        19|       Queens|           Bellerose|   Boro Zone|\n",
      "|        20|        Bronx|             Belmont|   Boro Zone|\n",
      "+----------+-------------+--------------------+------------+\n",
      "only showing top 20 rows\n",
      "\n"
     ]
    }
   ],
   "source": [
    "df.show()"
   ]
  },
  {
   "cell_type": "code",
   "execution_count": 9,
   "id": "51c5d631",
   "metadata": {},
   "outputs": [],
   "source": [
    "df.write.mode('overwrite').parquet('zones')"
   ]
  },
  {
   "cell_type": "code",
   "execution_count": 10,
   "id": "e2c6d7f8",
   "metadata": {},
   "outputs": [
    {
     "name": "stdout",
     "output_type": "stream",
     "text": [
      "total 80\r\n",
      "drwx------@   4 erinyepis  staff   128B Sep 21 13:17 \u001b[34mApplications\u001b[m\u001b[m\r\n",
      "drwxr-xr-x@   4 erinyepis  staff   128B Oct 26 17:34 \u001b[34mApplications (Parallels)\u001b[m\u001b[m\r\n",
      "-rw-r--r--    1 erinyepis  staff    42B Jun  5  2023 Brewfile\r\n",
      "drwx------@ 158 erinyepis  staff   4.9K Mar 14 10:28 \u001b[34mDesktop\u001b[m\u001b[m\r\n",
      "drwx------+  15 erinyepis  staff   480B Oct 13 09:44 \u001b[34mDocuments\u001b[m\u001b[m\r\n",
      "drwx------@  70 erinyepis  staff   2.2K Mar 15 12:50 \u001b[34mDownloads\u001b[m\u001b[m\r\n",
      "drwx------@ 108 erinyepis  staff   3.4K Mar  8 10:45 \u001b[34mLibrary\u001b[m\u001b[m\r\n",
      "drwx------    8 erinyepis  staff   256B Jan 30 06:45 \u001b[34mMovies\u001b[m\u001b[m\r\n",
      "drwx------+   7 erinyepis  staff   224B Jan 30 06:44 \u001b[34mMusic\u001b[m\u001b[m\r\n",
      "drwx------    4 erinyepis  staff   128B Jan 30 06:45 \u001b[34mParallels\u001b[m\u001b[m\r\n",
      "drwx------+   8 erinyepis  staff   256B Jan 30 06:44 \u001b[34mPictures\u001b[m\u001b[m\r\n",
      "drwxr-xr-x    3 erinyepis  staff    96B Sep 27  2022 \u001b[34mProjects\u001b[m\u001b[m\r\n",
      "drwxr-xr-x+   4 erinyepis  staff   128B Sep 22  2022 \u001b[34mPublic\u001b[m\u001b[m\r\n",
      "-rw-r--r--    1 erinyepis  staff   2.9K Mar  4 13:30 Untitled.ipynb\r\n",
      "drwxr-xr-x   12 erinyepis  staff   384B Jan 30 06:44 \u001b[34mcore_metrics\u001b[m\u001b[m\r\n",
      "drwxr-xr-x   24 erinyepis  staff   768B Nov 27 17:51 \u001b[34mdata-core-metrics\u001b[m\u001b[m\r\n",
      "drwxr-xr-x@  15 erinyepis  staff   480B Feb 20  2023 \u001b[34mevolottery\u001b[m\u001b[m\r\n",
      "drwxr-xr-x@   8 erinyepis  staff   256B Feb 20  2023 \u001b[34mgit-lesson\u001b[m\u001b[m\r\n",
      "drwxr-xr-x@  22 erinyepis  staff   704B Jan 30 06:48 \u001b[34mgoogle-cloud-sdk\u001b[m\u001b[m\r\n",
      "drwxr-xr-x   33 erinyepis  staff   1.0K Jan 15 13:54 \u001b[34mhomebrew\u001b[m\u001b[m\r\n",
      "drwxr-xr-x    3 erinyepis  staff    96B Aug  1  2023 \u001b[34mlogs\u001b[m\u001b[m\r\n",
      "-rw-r--r--    1 erinyepis  staff    10K Mar 15 16:31 mac_pyspark_setup.ipynb\r\n",
      "drwxr-xr-x    4 erinyepis  staff   128B Jan 30 06:47 \u001b[34mopt\u001b[m\u001b[m\r\n",
      "-rw-r--r--    1 erinyepis  staff    88B Jun  5  2023 package-lock.json\r\n",
      "drwxr-xr-x@  14 erinyepis  staff   448B Jan 30 06:46 \u001b[34mpython-calculator\u001b[m\u001b[m\r\n",
      "-rw-r--r--    1 erinyepis  staff    12K Aug 17  2016 taxi+_zone_lookup.csv\r\n",
      "drwxr-xr-x   11 erinyepis  staff   352B Feb  4 13:05 \u001b[34mterrademo\u001b[m\u001b[m\r\n",
      "drwxr-xr-x    6 erinyepis  staff   192B Mar 15 16:32 \u001b[34mzones\u001b[m\u001b[m\r\n"
     ]
    }
   ],
   "source": [
    "!ls -lh"
   ]
  }
 ],
 "metadata": {
  "kernelspec": {
   "display_name": "Python 3 (ipykernel)",
   "language": "python",
   "name": "python3"
  },
  "language_info": {
   "codemirror_mode": {
    "name": "ipython",
    "version": 3
   },
   "file_extension": ".py",
   "mimetype": "text/x-python",
   "name": "python",
   "nbconvert_exporter": "python",
   "pygments_lexer": "ipython3",
   "version": "3.9.13"
  }
 },
 "nbformat": 4,
 "nbformat_minor": 5
}
